{
  "nbformat": 4,
  "nbformat_minor": 0,
  "metadata": {
    "colab": {
      "provenance": []
    },
    "kernelspec": {
      "name": "python3",
      "display_name": "Python 3"
    },
    "language_info": {
      "name": "python"
    }
  },
  "cells": [
    {
      "cell_type": "code",
      "execution_count": null,
      "metadata": {
        "colab": {
          "base_uri": "https://localhost:8080/"
        },
        "id": "Fa6wDej3kfQj",
        "outputId": "c6b41f17-0cce-44ba-936a-df3f27079e8c"
      },
      "outputs": [
        {
          "output_type": "stream",
          "name": "stdout",
          "text": [
            "Enter first number: 1\n",
            "Enter second number: 2\n",
            "Addition:  3\n",
            "Subtraction:  -1\n",
            "Multiplication:  2\n",
            "Division:  0.5\n",
            "Modulus:  1\n",
            "Exponent:  1\n",
            "Floor Division:  0\n"
          ]
        }
      ],
      "source": [
        "#1 Arithmatic operaters\n",
        "num1 = int(input(\"Enter first number: \"))\n",
        "num2 = int(input(\"Enter second number: \"))\n",
        "print(\"Addition: \", num1+num2)\n",
        "print(\"Subtraction: \", num1-num2)\n",
        "print(\"Multiplication: \", num1*num2)\n",
        "print(\"Division: \", num1/num2)\n",
        "print(\"Modulus: \", num1%num2)\n",
        "print(\"Exponent: \", num1**num2)\n",
        "print(\"Floor Division: \", num1//num2)"
      ]
    },
    {
      "cell_type": "code",
      "source": [
        "#2 camparison operaters\n",
        "x=int(input(\"Enter first number: \"))\n",
        "y=int(input(\"Enter second number: \"))\n",
        "if x>y:\n",
        "    print(x,\"is greater than\",y)\n",
        "else:\n",
        "  if x<y:\n",
        "    print(y,\"is greater than\",x)\n",
        "  else:\n",
        "    print(x,\"is equal to\",y)"
      ],
      "metadata": {
        "colab": {
          "base_uri": "https://localhost:8080/"
        },
        "id": "3sgfdkILl8qV",
        "outputId": "e3315ef3-520f-4ccd-be85-67f88f374183"
      },
      "execution_count": null,
      "outputs": [
        {
          "output_type": "stream",
          "name": "stdout",
          "text": [
            "Enter first number: 6\n",
            "Enter second number: 8\n",
            "8 is greater than 6\n"
          ]
        }
      ]
    },
    {
      "cell_type": "code",
      "source": [
        "#logical operaters\n",
        "a = int(input(\"Enter first number: \"))\n",
        "b = int(input(\"Enter second number: \"))\n",
        "c = int(input(\"Enter third number: \"))\n",
        "print(a and b and c)#all true so last number only will print\n",
        "print(a or b or c)#all true so first no. will print\n",
        "print(not a) # all values are non zero values so it'll print false\n",
        "print(not b)\n",
        "print(not c)"
      ],
      "metadata": {
        "colab": {
          "base_uri": "https://localhost:8080/"
        },
        "id": "ZXPnUNfzmzVV",
        "outputId": "6c7f9052-a065-4255-b899-ff3a6444a26a"
      },
      "execution_count": null,
      "outputs": [
        {
          "output_type": "stream",
          "name": "stdout",
          "text": [
            "Enter first number: 7\n",
            "Enter second number: 8\n",
            "Enter third number: 9\n",
            "9\n",
            "7\n",
            "False\n",
            "False\n",
            "False\n"
          ]
        }
      ]
    },
    {
      "cell_type": "code",
      "source": [
        "#string  manipulation\n",
        "l = str(input(\"Enter a string: \"))\n",
        "print(l[::-1])#it will print string from end character\n",
        "print(l[3:])# endth character\n",
        "print(l.upper())\n",
        "print(l.lower())\n"
      ],
      "metadata": {
        "colab": {
          "base_uri": "https://localhost:8080/"
        },
        "id": "8b488eHenfLB",
        "outputId": "5995f6c4-e983-4bd4-9d1b-e4895dcfe22b"
      },
      "execution_count": null,
      "outputs": [
        {
          "output_type": "stream",
          "name": "stdout",
          "text": [
            "Enter a string: yash\n",
            "hsay\n",
            "h\n",
            "YASH\n",
            "yash\n"
          ]
        }
      ]
    },
    {
      "cell_type": "code",
      "source": [
        "#substring search\n",
        "s = str(input(\"Enter a sentance: \"))\n",
        "sub = str(input(\"write a world u want search: \"))\n",
        "if sub in s:\n",
        "    print(\"found at\")\n",
        "else:\n",
        "    print(\"not found\")\n"
      ],
      "metadata": {
        "colab": {
          "base_uri": "https://localhost:8080/"
        },
        "id": "K9S5rbg_iFWl",
        "outputId": "75f4649e-d064-495e-dc1f-5b38569b08a7"
      },
      "execution_count": null,
      "outputs": [
        {
          "output_type": "stream",
          "name": "stdout",
          "text": [
            "Enter a sentance: this is the simulation game \n",
            "write a world u want search: game\n",
            "found at \n"
          ]
        }
      ]
    },
    {
      "cell_type": "code",
      "source": [
        "#string formatting\n",
        "name = str(input(\"Enter your name: \"))\n",
        "age = int(input(\"Enter your age: \"))\n",
        "print(\"Hello {} , you are {} years old\".format(name,age))# it will print name n age according to given format"
      ],
      "metadata": {
        "colab": {
          "base_uri": "https://localhost:8080/"
        },
        "id": "22L0i2SYi0L3",
        "outputId": "803ac2a9-a4da-4465-f84e-999514fc335e"
      },
      "execution_count": null,
      "outputs": [
        {
          "output_type": "stream",
          "name": "stdout",
          "text": [
            "Enter your name: yash\n",
            "Enter your age: 21\n",
            "Hello yash , you are 21 years old\n"
          ]
        }
      ]
    },
    {
      "cell_type": "code",
      "source": [
        "#list operations\n",
        "list1 = list(map(int, input(\"Enter numbers separated by spaces: \").split()))\n",
        "print(sum(list1))#map is a function that takes an argument and split() method\n",
        "                  #called for string obtained and it splits the string at each space.\n",
        "print(max(list1))\n",
        "print(min(list1))\n"
      ],
      "metadata": {
        "colab": {
          "base_uri": "https://localhost:8080/"
        },
        "id": "0OAHk7NWmN6R",
        "outputId": "2f323581-68c1-40a4-a0c0-2a46467deb75"
      },
      "execution_count": null,
      "outputs": [
        {
          "output_type": "stream",
          "name": "stdout",
          "text": [
            "Enter numbers separated by spaces: 12 34 54 34 89 78 \n",
            "301\n",
            "89\n",
            "12\n"
          ]
        }
      ]
    },
    {
      "cell_type": "code",
      "source": [
        "#list manipulations\n",
        "list2 = [\"mango\",\"apple\",\"pineapple\",\"bannana\",\"orange\"]\n",
        "list2.append(\"grapes\")\n",
        "print(list2)\n",
        "list2.remove(list2[1])# it will remove the first item from the list\n",
        "print(list2)"
      ],
      "metadata": {
        "colab": {
          "base_uri": "https://localhost:8080/"
        },
        "id": "RMCPi1FGokkB",
        "outputId": "9ea4ad62-9fdd-4172-f0da-9e75f486709c"
      },
      "execution_count": null,
      "outputs": [
        {
          "output_type": "stream",
          "name": "stdout",
          "text": [
            "['mango', 'apple', 'pineapple', 'bannana', 'orange', 'grapes']\n",
            "['mango', 'pineapple', 'bannana', 'orange', 'grapes']\n"
          ]
        }
      ]
    },
    {
      "cell_type": "code",
      "source": [
        "#sorting list\n",
        "list3 = list(map(int, input(\"Enter numbers separated by spaces: \").split()))\n",
        "list3.sort()\n",
        "print(list3)#print list in ascending order\n",
        "list3.sort(reverse=True) #print list in descending order\n",
        "print(list3)"
      ],
      "metadata": {
        "colab": {
          "base_uri": "https://localhost:8080/"
        },
        "id": "-RoOH75_p7CO",
        "outputId": "15a3c26a-c0b0-42a4-fabc-3dbc5bfeeb5a"
      },
      "execution_count": null,
      "outputs": [
        {
          "output_type": "stream",
          "name": "stdout",
          "text": [
            "Enter numbers separated by spaces:  5 4 3 7 3 6 3 7 3\n",
            "[3, 3, 3, 3, 4, 5, 6, 7, 7]\n",
            "[7, 7, 6, 5, 4, 3, 3, 3, 3]\n"
          ]
        }
      ]
    },
    {
      "cell_type": "code",
      "source": [
        "#list slicing\n",
        "list1 = [1, 2, 3, 4, 5, 6, 7, 8, 9, 10]\n",
        "print(list1[0:5])# it will print first five no.\n",
        "print(list1[5:10])# it will print last five no.\n",
        "print(list1[2:7])# it will print from index 2 to index7\n"
      ],
      "metadata": {
        "colab": {
          "base_uri": "https://localhost:8080/"
        },
        "id": "FA317R80sZvA",
        "outputId": "1832949a-1b4e-4846-fce5-f9a898b996e3"
      },
      "execution_count": null,
      "outputs": [
        {
          "output_type": "stream",
          "name": "stdout",
          "text": [
            "[1, 2, 3, 4, 5]\n",
            "[6, 7, 8, 9, 10]\n",
            "[3, 4, 5, 6, 7]\n"
          ]
        }
      ]
    },
    {
      "cell_type": "code",
      "source": [
        "#Bouns\n",
        "# Initialize an empty list to store student data\n",
        "student_data = []\n",
        "\n",
        "# Input data for 3 students\n",
        "for i in range(3):\n",
        "    name = input(f\"Enter name of student {i + 1}: \")\n",
        "    scores = []\n",
        "    for j in range(3):\n",
        "        score = float(input(f\"Enter score for subject {j + 1}: \"))\n",
        "        scores.append(score)\n",
        "    student_data.append([name, scores])\n",
        "\n",
        "# Calculate and print average scores\n",
        "for student in student_data:\n",
        "    name = student[0]\n",
        "    scores = student[1]\n",
        "    average_score = sum(scores) / len(scores)\n",
        "    print(f\"{name}'s average score: {average_score}\")56\n"
      ],
      "metadata": {
        "id": "Oz7V3DbruRhW",
        "colab": {
          "base_uri": "https://localhost:8080/"
        },
        "outputId": "4e3bcd9d-9f56-4fc4-8960-8ca448e03af7"
      },
      "execution_count": 2,
      "outputs": [
        {
          "output_type": "stream",
          "name": "stdout",
          "text": [
            "Enter name of student 1: y\n",
            "Enter score for subject 1: 34\n",
            "Enter score for subject 2: 6\n",
            "Enter score for subject 3: 76\n",
            "Enter name of student 2: a\n",
            "Enter score for subject 1: 45\n",
            "Enter score for subject 2: 65\n",
            "Enter score for subject 3: 78\n",
            "Enter name of student 3: c\n",
            "Enter score for subject 1: 67\n",
            "Enter score for subject 2: 54\n",
            "Enter score for subject 3: 6\n",
            "y's average score: 38.666666666666664\n",
            "a's average score: 62.666666666666664\n",
            "c's average score: 42.333333333333336\n"
          ]
        }
      ]
    }
  ]
}